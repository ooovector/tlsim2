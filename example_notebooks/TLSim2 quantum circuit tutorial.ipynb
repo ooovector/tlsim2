{
 "cells": [
  {
   "cell_type": "code",
   "execution_count": 1,
   "id": "4b89b895",
   "metadata": {
    "ExecuteTime": {
     "end_time": "2024-04-15T14:24:06.571655Z",
     "start_time": "2024-04-15T14:24:06.066967Z"
    }
   },
   "outputs": [],
   "source": [
    "import sys\n",
    "import numpy as np\n",
    "from matplotlib import pyplot as plt\n",
    "sys.path.append('..')\n",
    "from scipy.constants import h, hbar, e"
   ]
  },
  {
   "cell_type": "markdown",
   "id": "8468e1da",
   "metadata": {},
   "source": [
    "Define a circuit for a flux-tunable transmon qubit with $E_C=0.3, E_{J1}=7 ~\\text{and}~ E_{J2}=15$ GHz. Also we added a small inductance $m$ represended a coil element for flux tunability. TLSim2 works with variables in SI system, therefore we need to convert all parameters."
   ]
  },
  {
   "cell_type": "code",
   "execution_count": 2,
   "id": "c5692c63",
   "metadata": {
    "ExecuteTime": {
     "end_time": "2024-04-15T14:24:06.888852Z",
     "start_time": "2024-04-15T14:24:06.757690Z"
    }
   },
   "outputs": [],
   "source": [
    "from tlsim2.lumped import *\n",
    "from tlsim2.circuit import Circuit\n",
    "sys_big = Circuit()\n",
    "\n",
    "EC = 0.3\n",
    "EJ1 = 7\n",
    "EJ2 = 15\n",
    "\n",
    "\n",
    "C = e ** 2 / (EC * 1e9 * h) / 2 # in F\n",
    "EJ1 = EJ1 * 1e9 * h # in J\n",
    "EJ2 = EJ2 * 1e9 * h\n",
    "m = 10e-14 # in H\n",
    "\n",
    "cap_q = Capacitor(name='C_q', c=C)\n",
    "jj1 = JosephsonJunction(name='JJ1', ej=EJ1)\n",
    "jj2 = JosephsonJunction(name='JJ2', ej=EJ2)\n",
    "coil = Inductor(name='M', l=m)\n",
    "\n",
    "sys_big.add_element(cap_q, {'i': 1, 'o': 0})\n",
    "sys_big.add_element(jj1, {'i': 1, 'o': 0})\n",
    "sys_big.add_element(jj2, {'i': 1, 'o': 2})\n",
    "sys_big.add_element(coil, {'i': 0, 'o': 2})\n",
    "\n",
    "sys_big.short(0)"
   ]
  },
  {
   "cell_type": "markdown",
   "id": "2dcd1bf9",
   "metadata": {},
   "source": [
    "In the linear approximation, we replace all Josepshon junctions with inductances. In this approximation we can obtain inverse inductance, capacitance and inverse resistance matrices. Also here we define node basis $\\vec{\\varphi} = (\\varphi_1, \\varphi_2, \\ldots) ^T$. In the linear approximation we can find eigenmodes of the system using dynamical equations."
   ]
  },
  {
   "cell_type": "code",
   "execution_count": 3,
   "id": "6d330bee",
   "metadata": {
    "ExecuteTime": {
     "end_time": "2024-04-15T14:24:07.490837Z",
     "start_time": "2024-04-15T14:24:07.470119Z"
    }
   },
   "outputs": [
    {
     "name": "stdout",
     "output_type": "stream",
     "text": [
      "Node names in the system are  [1, 2]\n",
      "E01 in the linear approximation = 7.266 GHz\n"
     ]
    },
    {
     "name": "stderr",
     "output_type": "stream",
     "text": [
      "D:\\tlsim2\\example_notebooks\\..\\tlsim2\\circuit.py:149: RuntimeWarning: invalid value encountered in multiply\n",
      "  self.w = w * np.sqrt(max_li / max_c)\n",
      "D:\\tlsim2\\example_notebooks\\..\\tlsim2\\circuit.py:153: RuntimeWarning: invalid value encountered in multiply\n",
      "  return w * np.sqrt(max_li / max_c), v, node_names\n",
      "C:\\Users\\alena\\AppData\\Local\\Temp\\ipykernel_14472\\2971142407.py:5: RuntimeWarning: invalid value encountered in true_divide\n",
      "  frequencies = np.imag(w/(2*np.pi)/1e9)\n"
     ]
    }
   ],
   "source": [
    "li, c, ri, node_names = sys_big.get_system_licri()\n",
    "print('Node names in the system are ', node_names)\n",
    "\n",
    "w, v, node_names = sys_big.compute_system_modes()\n",
    "frequencies = np.imag(w/(2*np.pi)/1e9)\n",
    "frequencies = frequencies[frequencies > 0]\n",
    "print(r'E01 in the linear approximation = %.3f GHz' % frequencies[0])"
   ]
  },
  {
   "cell_type": "markdown",
   "id": "c496c188",
   "metadata": {},
   "source": [
    "For quntization we need to define all variables $\\vec{\\theta}$ presented in the system. According to the Koch article we can classify all variables to frozen, free, periodic and extended. We use the Gauss-Jordan elimination method to find a fundamental system of solutions.\n",
    "\n",
    "For frozen variables we make zero flux difference across all capacitors.\n",
    "For free variables we make zero flux difference across all elements where dc current flow is posiible.\n",
    "For periodic variables we make zero flux difference across all elements which do not form superconducting islands where charge tunneling is possible."
   ]
  },
  {
   "cell_type": "code",
   "execution_count": 4,
   "id": "17f3ee1a",
   "metadata": {
    "ExecuteTime": {
     "end_time": "2024-04-15T14:24:08.187453Z",
     "start_time": "2024-04-15T14:24:08.171356Z"
    }
   },
   "outputs": [
    {
     "name": "stdout",
     "output_type": "stream",
     "text": [
      "Linear transformation matrix is \n",
      " [[-0.  1.]\n",
      " [ 1.  0.]] with variables ['frozen', 'periodic']\n"
     ]
    }
   ],
   "source": [
    "basis, fss_types = sys_big.get_variable_transformation()\n",
    "print('Linear transformation matrix is \\n {} with variables {}'.format(basis, fss_types))"
   ]
  },
  {
   "cell_type": "markdown",
   "id": "bd40e8c6",
   "metadata": {},
   "source": [
    "For further quantization we eliminate frozen $\\theta_{f}$ and free $\\theta_{c}$ variables. Frozen variables are corresponding to massless particles with potential energy. We eliminate these variables to avoid any problems with the Legendre transformation. Also we can eliminate free variables, because for theese variables the conjugate charge $Q_c$ is a conserved quantity. In other words, this type of variables is formed by islands where charge tunneling is not possible. Also it can be noted that for free variables the energy spectrum is not discrete (infinite movement).\n",
    "\n",
    "After all these manipulation we create a qunatum circuit and define quantum variables."
   ]
  },
  {
   "cell_type": "code",
   "execution_count": 5,
   "id": "5e68c092",
   "metadata": {
    "ExecuteTime": {
     "end_time": "2024-04-15T14:24:14.742153Z",
     "start_time": "2024-04-15T14:24:14.725197Z"
    }
   },
   "outputs": [
    {
     "name": "stdout",
     "output_type": "stream",
     "text": [
      "θ_0_periodic\n"
     ]
    }
   ],
   "source": [
    "sys_big.create_quantum_circuit()\n",
    "sys_big.variables\n",
    "\n",
    "for var in sys_big.variables:\n",
    "    print(var.name)"
   ]
  },
  {
   "cell_type": "markdown",
   "id": "ea3fd121",
   "metadata": {},
   "source": [
    "The next step is calculate charge and phase potential using a grid for created variables."
   ]
  },
  {
   "cell_type": "code",
   "execution_count": 6,
   "id": "97345931",
   "metadata": {
    "ExecuteTime": {
     "end_time": "2024-04-15T14:24:15.513450Z",
     "start_time": "2024-04-15T14:24:15.497539Z"
    }
   },
   "outputs": [],
   "source": [
    "sys_big.calculate_potentials();"
   ]
  },
  {
   "cell_type": "markdown",
   "id": "3ffbdbab",
   "metadata": {},
   "source": [
    "After that we can crete the Hamiltonian operator in phase representation and find discrete eigenenergies and wavefunctions."
   ]
  },
  {
   "cell_type": "code",
   "execution_count": 7,
   "id": "da4e0b0a",
   "metadata": {
    "ExecuteTime": {
     "end_time": "2024-04-15T14:24:16.257839Z",
     "start_time": "2024-04-15T14:24:16.226125Z"
    }
   },
   "outputs": [
    {
     "name": "stdout",
     "output_type": "stream",
     "text": [
      "E01 = 6.952 GHz\n"
     ]
    }
   ],
   "source": [
    "operator = sys_big.hamiltonian\n",
    "from scipy.sparse.linalg import eigs\n",
    "energies, wavefunctions = eigs(operator, k=5, which='SR', maxiter=1000)\n",
    "\n",
    "energ = np.real(energies - energies[0]) / h\n",
    "print(r'E01 = %.3f GHz' % ((energ[1] - energ[0]) / 1e9))"
   ]
  },
  {
   "cell_type": "markdown",
   "id": "b38a8a24",
   "metadata": {},
   "source": [
    "For transmon qubit we can use the following equantion from Koch article\n",
    "$$\n",
    "E_{10} = \\sqrt{8 E_C E_J} - E_C\n",
    "$$\n",
    "This equation gives only approximated solution for the first order perturbation theory."
   ]
  },
  {
   "cell_type": "code",
   "execution_count": 8,
   "id": "8c066b50",
   "metadata": {
    "ExecuteTime": {
     "end_time": "2024-04-15T14:24:16.986325Z",
     "start_time": "2024-04-15T14:24:16.970395Z"
    }
   },
   "outputs": [
    {
     "name": "stdout",
     "output_type": "stream",
     "text": [
      "E01 = 6.966 GHz\n"
     ]
    }
   ],
   "source": [
    "EC = e ** 2 / C / 2 / h / 1e9 # charge energy in GHz\n",
    "EJ = (EJ1 + EJ2) / h / 1e9 # Josephson energy in GHz\n",
    "E10 = np.sqrt(8 * EC * EJ) - EC\n",
    "print(r'E01 = %.3f GHz' % E10)"
   ]
  },
  {
   "cell_type": "code",
   "execution_count": null,
   "id": "cdb89fb0",
   "metadata": {},
   "outputs": [],
   "source": []
  }
 ],
 "metadata": {
  "kernelspec": {
   "display_name": "Python 3 (ipykernel)",
   "language": "python",
   "name": "python3"
  },
  "language_info": {
   "codemirror_mode": {
    "name": "ipython",
    "version": 3
   },
   "file_extension": ".py",
   "mimetype": "text/x-python",
   "name": "python",
   "nbconvert_exporter": "python",
   "pygments_lexer": "ipython3",
   "version": "3.9.13"
  },
  "toc": {
   "base_numbering": 1,
   "nav_menu": {},
   "number_sections": true,
   "sideBar": true,
   "skip_h1_title": false,
   "title_cell": "Table of Contents",
   "title_sidebar": "Contents",
   "toc_cell": false,
   "toc_position": {},
   "toc_section_display": true,
   "toc_window_display": false
  }
 },
 "nbformat": 4,
 "nbformat_minor": 5
}
