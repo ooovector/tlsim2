{
 "cells": [
  {
   "cell_type": "code",
   "execution_count": 1,
   "id": "a01fac1b",
   "metadata": {
    "ExecuteTime": {
     "end_time": "2024-08-06T16:17:53.672818Z",
     "start_time": "2024-08-06T16:17:52.800377Z"
    }
   },
   "outputs": [],
   "source": [
    "import sys\n",
    "import numpy as np\n",
    "from matplotlib import pyplot as plt\n",
    "sys.path.append('..')\n",
    "from scipy.constants import h"
   ]
  },
  {
   "cell_type": "markdown",
   "id": "1a28cb2e",
   "metadata": {},
   "source": [
    "# Single transmon qubit"
   ]
  },
  {
   "cell_type": "markdown",
   "id": "c408227c",
   "metadata": {},
   "source": [
    "## Create linear circuit"
   ]
  },
  {
   "cell_type": "code",
   "execution_count": 2,
   "id": "1dee22b6",
   "metadata": {
    "ExecuteTime": {
     "end_time": "2024-08-06T16:17:53.942739Z",
     "start_time": "2024-08-06T16:17:53.733867Z"
    }
   },
   "outputs": [
    {
     "data": {
      "text/plain": [
       "(array([5.8278845]), array([0.]))"
      ]
     },
     "execution_count": 2,
     "metadata": {},
     "output_type": "execute_result"
    }
   ],
   "source": [
    "from tlsim2.lumped import LumpedTwoTerminal\n",
    "from tlsim2.lumped import JosephsonJunction\n",
    "\n",
    "C_q = 73e-15\n",
    "EJ = 16e9 * h\n",
    "\n",
    "# qubit capacitor\n",
    "capacitor_qubit = LumpedTwoTerminal(name='C_q', c=C_q)\n",
    "\n",
    "# qubit nonlinear element\n",
    "jj =  JosephsonJunction(name='JJ', ej=EJ)\n",
    "\n",
    "from tlsim2.circuit import Circuit\n",
    "\n",
    "linear_circuit = Circuit()\n",
    "linear_circuit.add_element(capacitor_qubit, {'i': 0, 'o': 1})\n",
    "linear_circuit.add_element(jj, {'i': 0, 'o': 1})\n",
    "linear_circuit.short(0)\n",
    "\n",
    "w, v, node_names = linear_circuit.compute_system_modes()\n",
    "decays = np.real(w/1e9)*2\n",
    "frequencies = np.imag(w/(2*np.pi))/1e9\n",
    "decays = np.real(w/1e9)*2\n",
    "decays = decays[frequencies > 0]\n",
    "frequencies = frequencies[frequencies > 0]\n",
    "frequencies, decays "
   ]
  },
  {
   "cell_type": "markdown",
   "id": "0cce25dd",
   "metadata": {},
   "source": [
    "## Create nonlinear circuit"
   ]
  },
  {
   "cell_type": "code",
   "execution_count": 3,
   "id": "7ec2a592",
   "metadata": {
    "ExecuteTime": {
     "end_time": "2024-08-06T16:17:54.765170Z",
     "start_time": "2024-08-06T16:17:54.752569Z"
    }
   },
   "outputs": [
    {
     "name": "stdout",
     "output_type": "stream",
     "text": [
      "OrderedDict([('JJ', <tlsim2.lumped.JosephsonJunction object at 0x000002687FF79040>)])\n",
      "Number of modes in the system is 1 and number of nonlinaer elements is 1\n"
     ]
    }
   ],
   "source": [
    "print(linear_circuit.nonlinear_elements)\n",
    "\n",
    "from tlsim2.quantum_circuit import QuantumCircuit\n",
    "nonlinear_circuit = QuantumCircuit(linear_circuit)\n",
    "\n",
    "print(f\"Number of modes in the system is {nonlinear_circuit.num_modes} and \\\n",
    "number of nonlinaer elements is {nonlinear_circuit.num_nonlinear_elements}\")"
   ]
  },
  {
   "cell_type": "code",
   "execution_count": 4,
   "id": "01394113",
   "metadata": {
    "ExecuteTime": {
     "end_time": "2024-08-06T16:17:55.176697Z",
     "start_time": "2024-08-06T16:17:55.165084Z"
    }
   },
   "outputs": [
    {
     "data": {
      "text/plain": [
       "(array([[1.]]), 0.9999999999999999)"
      ]
     },
     "execution_count": 4,
     "metadata": {},
     "output_type": "execute_result"
    }
   ],
   "source": [
    "nonlinear_circuit.get_epr_coefficients(), np.sum(nonlinear_circuit.get_epr_coefficients())"
   ]
  },
  {
   "cell_type": "code",
   "execution_count": 5,
   "id": "7e1dfbd8",
   "metadata": {
    "ExecuteTime": {
     "end_time": "2024-08-06T16:17:55.775221Z",
     "start_time": "2024-08-06T16:17:55.766763Z"
    }
   },
   "outputs": [
    {
     "data": {
      "text/plain": [
       "(array([[5.30691214e+08]]), array([2.65345607e+08]))"
      ]
     },
     "execution_count": 5,
     "metadata": {},
     "output_type": "execute_result"
    }
   ],
   "source": [
    "kerr_matrix, anharmonicities = nonlinear_circuit.get_kerr_matrix()\n",
    "kerr_matrix / (2 * np.pi), anharmonicities / (2 * np.pi)"
   ]
  },
  {
   "cell_type": "markdown",
   "id": "bfc57f18",
   "metadata": {},
   "source": [
    "Plasma frequency of transmon qubit in Hz\n",
    "$$\n",
    "\\omega_{01} =  \\sqrt{8 E_C E_J},\n",
    "$$\n",
    "where $E_C = [\\text{Hz}]$ and $E_J = [\\text{Hz}]$\n",
    "\n",
    "Anharmonicity\n",
    "$$\n",
    "\\alpha = -E_C\n",
    "$$"
   ]
  },
  {
   "cell_type": "code",
   "execution_count": 6,
   "id": "0db551db",
   "metadata": {
    "ExecuteTime": {
     "end_time": "2024-08-06T16:17:56.549644Z",
     "start_time": "2024-08-06T16:17:56.539710Z"
    }
   },
   "outputs": [
    {
     "name": "stdout",
     "output_type": "stream",
     "text": [
      "Plasma frequency for transmon qubit is 5.827884497821679 GHz and anharmonicity -265.3456071871113 MHz\n"
     ]
    }
   ],
   "source": [
    "from scipy.constants import hbar, e, h\n",
    "\n",
    "# Qubit\n",
    "EC = e ** 2 / (C_q) / 2 / h\n",
    "f_q = np.sqrt(8 * EC * EJ / h)\n",
    "\n",
    "print(f\"Plasma frequency for transmon qubit is {f_q / 1e9} GHz and anharmonicity {- EC / 1e6} MHz\")"
   ]
  },
  {
   "cell_type": "markdown",
   "id": "582d327a",
   "metadata": {},
   "source": [
    "# Circuit in linear approximation"
   ]
  },
  {
   "cell_type": "code",
   "execution_count": 7,
   "id": "429910b7",
   "metadata": {
    "ExecuteTime": {
     "end_time": "2024-08-06T16:17:58.660449Z",
     "start_time": "2024-08-06T16:17:58.629013Z"
    }
   },
   "outputs": [],
   "source": [
    "from tlsim2.tl import MultiTransmissionLine\n",
    "from tlsim2.tl import default_tl_basis\n",
    "\n",
    "from tlsim2.lumped import LumpedTwoTerminal\n",
    "from tlsim2.lumped import JosephsonJunction\n",
    "\n",
    "ll = [[416.120e-9]] # per-unit-length inductance for a 50-ohm TL on cold silicon\n",
    "cl = [[166.448e-12]] # per-unit-length capacitance for a 50-ohm TL on cold silicon\n",
    "\n",
    "vp = 1/np.sqrt(np.asarray(cl)*np.asarray(ll))\n",
    "length = 4e-3\n",
    "\n",
    "C_q = 73e-15\n",
    "EJ = 16e9 * h\n",
    "C_c = 4e-15\n",
    "\n",
    "# resonator transmission line\n",
    "default_basis1 = default_tl_basis(1, n_harmonics=2)\n",
    "tl = MultiTransmissionLine('TL', n=1, l=length, ll=ll, cl=cl, basis=default_basis1)\n",
    "\n",
    "# qubit capacitor\n",
    "capacitor_qubit = LumpedTwoTerminal(name='C_q', c=C_q)\n",
    "\n",
    "# qubit nonlinear element\n",
    "jj =  JosephsonJunction(name='JJ', ej=EJ)\n",
    "\n",
    "# coupling capacitor\n",
    "capacitor_coupl = LumpedTwoTerminal(name='C_c', c=C_c)"
   ]
  },
  {
   "cell_type": "code",
   "execution_count": 8,
   "id": "5dd7ebb4",
   "metadata": {
    "ExecuteTime": {
     "end_time": "2024-08-06T16:17:59.073775Z",
     "start_time": "2024-08-06T16:17:59.053043Z"
    }
   },
   "outputs": [
    {
     "data": {
      "text/plain": [
       "(array([102.23915691,  57.19206793,  37.60591848,  22.40341332,\n",
       "          5.67185091,   7.47048357]),\n",
       " array([0., 0., 0., 0., 0., 0.]))"
      ]
     },
     "execution_count": 8,
     "metadata": {},
     "output_type": "execute_result"
    }
   ],
   "source": [
    "from tlsim2.circuit import Circuit\n",
    "\n",
    "linear_circuit = Circuit()\n",
    "linear_circuit.add_element(capacitor_qubit, {'i': 0, 'o': 1})\n",
    "linear_circuit.add_element(jj, {'i': 0, 'o': 1})\n",
    "linear_circuit.add_element(tl, {'i0': 2, 'o0': 0})\n",
    "linear_circuit.add_element(capacitor_coupl, {'i': 1, 'o': 2})\n",
    "linear_circuit.short(0)\n",
    "\n",
    "w, v, node_names = linear_circuit.compute_system_modes()\n",
    "decays = np.real(w/1e9)*2\n",
    "frequencies = np.imag(w/(2*np.pi))/1e9\n",
    "decays = np.real(w/1e9)*2\n",
    "decays = decays[frequencies > 0]\n",
    "frequencies = frequencies[frequencies > 0]\n",
    "frequencies, decays "
   ]
  },
  {
   "cell_type": "code",
   "execution_count": 9,
   "id": "770b554f",
   "metadata": {
    "ExecuteTime": {
     "end_time": "2024-08-06T16:17:59.469919Z",
     "start_time": "2024-08-06T16:17:59.458872Z"
    }
   },
   "outputs": [
    {
     "data": {
      "text/plain": [
       "(5.674492200584848, 7.509852927040275)"
      ]
     },
     "execution_count": 9,
     "metadata": {},
     "output_type": "execute_result"
    }
   ],
   "source": [
    "from scipy.constants import hbar, e, h\n",
    "\n",
    "# Qubit\n",
    "EC = e ** 2 / (C_q + C_c) / 2 / h\n",
    "f_q = np.sqrt(8 * EC * EJ / h)\n",
    "\n",
    "# Resonator frequnecy is changed due to \n",
    "f_r = 1 / (4 * length * np.sqrt(np.asarray(cl)*np.asarray(ll)))\n",
    "\n",
    "\n",
    "f_q / 1e9, f_r[0, 0] / 1e9 # GHz"
   ]
  },
  {
   "cell_type": "markdown",
   "id": "3d19cfdc",
   "metadata": {},
   "source": [
    "# Nonlinear circuit"
   ]
  },
  {
   "cell_type": "markdown",
   "id": "9be047d8",
   "metadata": {},
   "source": [
    "Check all nonlinear elements in the circuit"
   ]
  },
  {
   "cell_type": "code",
   "execution_count": 10,
   "id": "86582b87",
   "metadata": {
    "ExecuteTime": {
     "end_time": "2024-08-06T16:18:00.754237Z",
     "start_time": "2024-08-06T16:18:00.731329Z"
    }
   },
   "outputs": [
    {
     "data": {
      "text/plain": [
       "OrderedDict([('JJ', <tlsim2.lumped.JosephsonJunction at 0x26818137e50>)])"
      ]
     },
     "execution_count": 10,
     "metadata": {},
     "output_type": "execute_result"
    }
   ],
   "source": [
    "linear_circuit.nonlinear_elements"
   ]
  },
  {
   "cell_type": "markdown",
   "id": "8573d6cd",
   "metadata": {},
   "source": [
    "Now one can create quantum nonlinear circuit from this linear circuit"
   ]
  },
  {
   "cell_type": "code",
   "execution_count": 11,
   "id": "694ec12c",
   "metadata": {
    "ExecuteTime": {
     "end_time": "2024-08-06T16:18:01.811914Z",
     "start_time": "2024-08-06T16:18:01.804493Z"
    }
   },
   "outputs": [
    {
     "name": "stdout",
     "output_type": "stream",
     "text": [
      "Number of modes in the system is 6 and number of nonlinaer elements is 1\n"
     ]
    }
   ],
   "source": [
    "from tlsim2.quantum_circuit import QuantumCircuit\n",
    "nonlinear_circuit = QuantumCircuit(linear_circuit)\n",
    "\n",
    "print(f\"Number of modes in the system is {nonlinear_circuit.num_modes} and \\\n",
    "number of nonlinaer elements is {nonlinear_circuit.num_nonlinear_elements}\")"
   ]
  },
  {
   "cell_type": "code",
   "execution_count": 12,
   "id": "29b2a5d3",
   "metadata": {
    "ExecuteTime": {
     "end_time": "2024-08-06T16:18:02.286943Z",
     "start_time": "2024-08-06T16:18:02.273984Z"
    }
   },
   "outputs": [
    {
     "data": {
      "text/plain": [
       "array([[1.94786718e-05],\n",
       "       [6.55149253e-06],\n",
       "       [1.64344368e-05],\n",
       "       [4.54496244e-05],\n",
       "       [9.97914233e-01],\n",
       "       [1.99785267e-03]])"
      ]
     },
     "execution_count": 12,
     "metadata": {},
     "output_type": "execute_result"
    }
   ],
   "source": [
    "nonlinear_circuit.get_epr_coefficients()"
   ]
  },
  {
   "cell_type": "code",
   "execution_count": 13,
   "id": "e8de5bdc",
   "metadata": {
    "ExecuteTime": {
     "end_time": "2024-08-06T16:18:02.839871Z",
     "start_time": "2024-08-06T16:18:02.833254Z"
    }
   },
   "outputs": [
    {
     "data": {
      "text/plain": [
       "1.000000000000001"
      ]
     },
     "execution_count": 13,
     "metadata": {},
     "output_type": "execute_result"
    }
   ],
   "source": [
    "np.sum(nonlinear_circuit.get_epr_coefficients())"
   ]
  },
  {
   "cell_type": "code",
   "execution_count": 15,
   "id": "26e6b3f1",
   "metadata": {
    "ExecuteTime": {
     "end_time": "2024-08-06T16:18:09.257790Z",
     "start_time": "2024-08-06T16:18:09.241689Z"
    }
   },
   "outputs": [
    {
     "data": {
      "text/plain": [
       "(array([[6.19688196e+01, 1.16593053e+01, 1.92312561e+01, 3.16840809e+01,\n",
       "         1.76122422e+05, 4.64417737e+02],\n",
       "        [1.16593053e+01, 2.19367420e+00, 3.61832108e+00, 5.96129434e+00,\n",
       "         3.31370696e+04, 8.73792373e+01],\n",
       "        [1.92312561e+01, 3.61832108e+00, 5.96818228e+00, 9.83276233e+00,\n",
       "         5.46574135e+04, 1.44126296e+02],\n",
       "        [3.16840809e+01, 5.96129434e+00, 9.83276233e+00, 1.61997758e+01,\n",
       "         9.00497556e+04, 2.37452468e+02],\n",
       "        [1.76122422e+05, 3.31370696e+04, 5.46574135e+04, 9.00497556e+04,\n",
       "         5.00559920e+08, 1.31992794e+06],\n",
       "        [4.64417737e+02, 8.73792373e+01, 1.44126296e+02, 2.37452468e+02,\n",
       "         1.31992794e+06, 3.48052192e+03]]),\n",
       " array([3.09844098e+01, 1.09683710e+00, 2.98409114e+00, 8.09988791e+00,\n",
       "        2.50279960e+08, 1.74026096e+03]))"
      ]
     },
     "execution_count": 15,
     "metadata": {},
     "output_type": "execute_result"
    }
   ],
   "source": [
    "kerr_matrix, anharmonicities = nonlinear_circuit.get_kerr_matrix()\n",
    "kerr_matrix / (2 * np.pi), anharmonicities / (2 * np.pi)"
   ]
  },
  {
   "cell_type": "code",
   "execution_count": null,
   "id": "97ad283b",
   "metadata": {},
   "outputs": [],
   "source": []
  }
 ],
 "metadata": {
  "kernelspec": {
   "display_name": "Python 3 (ipykernel)",
   "language": "python",
   "name": "python3"
  },
  "language_info": {
   "codemirror_mode": {
    "name": "ipython",
    "version": 3
   },
   "file_extension": ".py",
   "mimetype": "text/x-python",
   "name": "python",
   "nbconvert_exporter": "python",
   "pygments_lexer": "ipython3",
   "version": "3.9.13"
  },
  "toc": {
   "base_numbering": 1,
   "nav_menu": {},
   "number_sections": true,
   "sideBar": true,
   "skip_h1_title": false,
   "title_cell": "Table of Contents",
   "title_sidebar": "Contents",
   "toc_cell": false,
   "toc_position": {},
   "toc_section_display": true,
   "toc_window_display": false
  }
 },
 "nbformat": 4,
 "nbformat_minor": 5
}
