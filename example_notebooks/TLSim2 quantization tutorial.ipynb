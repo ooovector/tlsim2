{
 "cells": [
  {
   "cell_type": "code",
   "execution_count": 1,
   "id": "a01fac1b",
   "metadata": {
    "ExecuteTime": {
     "end_time": "2024-09-10T11:19:11.097951Z",
     "start_time": "2024-09-10T11:19:10.583651Z"
    }
   },
   "outputs": [],
   "source": [
    "import sys\n",
    "import numpy as np\n",
    "from matplotlib import pyplot as plt\n",
    "sys.path.append('..')\n",
    "from scipy.constants import hbar, e, h\n",
    "from IPython.display import Image \n",
    "%config InlineBackend.figure_format='retina'"
   ]
  },
  {
   "cell_type": "markdown",
   "id": "84747d60",
   "metadata": {},
   "source": [
    "# Single transmon qubit"
   ]
  },
  {
   "cell_type": "markdown",
   "id": "def5b519",
   "metadata": {},
   "source": [
    "Calculations for weakly anharmonic systems can be divide into two main parts:\n",
    "1. Calculations for linear circuit, where all nonlinaer elements are replaced by linear inductances\n",
    "\n",
    "2. Calculation of Kerr matrix, which defines anharmonicities and dispersive shifts"
   ]
  },
  {
   "cell_type": "markdown",
   "id": "90096902",
   "metadata": {},
   "source": [
    "## Create linear circuit"
   ]
  },
  {
   "cell_type": "code",
   "execution_count": 2,
   "id": "78ae0bd8",
   "metadata": {
    "ExecuteTime": {
     "end_time": "2024-09-10T11:19:12.055446Z",
     "start_time": "2024-09-10T11:19:11.710608Z"
    }
   },
   "outputs": [
    {
     "name": "stdout",
     "output_type": "stream",
     "text": [
      "Transmon ratio is 228.59822285960075\n"
     ]
    },
    {
     "data": {
      "text/plain": [
       "(array([6.73458858e+09]), array([0.]))"
      ]
     },
     "execution_count": 2,
     "metadata": {},
     "output_type": "execute_result"
    }
   ],
   "source": [
    "from tlsim2.lumped import LumpedTwoTerminal\n",
    "from tlsim2.lumped import JosephsonJunction\n",
    "\n",
    "Cq = 123e-15\n",
    "EJ = 36e9 * h\n",
    "\n",
    "EC = e ** 2 / Cq / 2\n",
    "\n",
    "ratio = EJ / EC\n",
    "\n",
    "print(f\"Transmon ratio is {ratio}\")\n",
    "\n",
    "# qubit capacitor\n",
    "capacitor_qubit = LumpedTwoTerminal(name='Cq', c=Cq)\n",
    "\n",
    "# qubit nonlinear element\n",
    "jj1 =  JosephsonJunction(name='JJ1', ej=1 * EJ / 6)\n",
    "jj2 =  JosephsonJunction(name='JJ2', ej=5 * EJ / 6)\n",
    "\n",
    "from tlsim2.circuit import Circuit\n",
    "\n",
    "linear_circuit = Circuit()\n",
    "linear_circuit.add_element(capacitor_qubit, {'i': 0, 'o': 1})\n",
    "\n",
    "linear_circuit.add_element(jj1, {'i': 0, 'o': 1})\n",
    "linear_circuit.add_element(jj2, {'i': 0, 'o': 1})\n",
    "linear_circuit.short(0)\n",
    "\n",
    "w, v, node_names = linear_circuit.compute_system_modes(only_positive=True)\n",
    "frequencies, decays  =  w.imag / 2 / np.pi, w.real / 2 / np.pi\n",
    "frequencies, decays "
   ]
  },
  {
   "cell_type": "markdown",
   "id": "808794c1",
   "metadata": {},
   "source": [
    "## Create nonlinear circuit"
   ]
  },
  {
   "cell_type": "code",
   "execution_count": 3,
   "id": "5ddd7241",
   "metadata": {
    "ExecuteTime": {
     "end_time": "2024-09-10T11:19:12.363875Z",
     "start_time": "2024-09-10T11:19:12.355838Z"
    }
   },
   "outputs": [
    {
     "name": "stdout",
     "output_type": "stream",
     "text": [
      "OrderedDict([('JJ1', <tlsim2.lumped.JosephsonJunction object at 0x000002B7D7BA01F0>), ('JJ2', <tlsim2.lumped.JosephsonJunction object at 0x000002B7B76C1610>)])\n",
      "Number of modes in the system is 1 and number of nonlinaer elements is 2\n"
     ]
    }
   ],
   "source": [
    "print(linear_circuit.nonlinear_elements)\n",
    "\n",
    "from tlsim2.quantum_circuit import QuantumCircuit\n",
    "nonlinear_circuit = QuantumCircuit(linear_circuit)\n",
    "\n",
    "print(f\"Number of modes in the system is {nonlinear_circuit.num_modes} and \\\n",
    "number of nonlinaer elements is {nonlinear_circuit.num_nonlinear_elements}\")"
   ]
  },
  {
   "cell_type": "markdown",
   "id": "dc709099",
   "metadata": {},
   "source": [
    "Calculate EPR matrix $\\bf{p}$ which is defined as $p_{mj} =  \\frac{\\text{Inductive energy in junction }j}{\\text{Half of total energy if the mode } m}$ (https://www.nature.com/articles/s41534-021-00461-8)"
   ]
  },
  {
   "cell_type": "code",
   "execution_count": 4,
   "id": "3a040166",
   "metadata": {
    "ExecuteTime": {
     "end_time": "2024-09-10T11:19:13.025386Z",
     "start_time": "2024-09-10T11:19:13.013233Z"
    }
   },
   "outputs": [
    {
     "data": {
      "text/plain": [
       "(array([[0.16666667, 0.83333333]]), 0.9999999999999998)"
      ]
     },
     "execution_count": 4,
     "metadata": {},
     "output_type": "execute_result"
    }
   ],
   "source": [
    "nonlinear_circuit.get_epr_coefficients(), np.sum(nonlinear_circuit.get_epr_coefficients())"
   ]
  },
  {
   "cell_type": "markdown",
   "id": "62ed0e53",
   "metadata": {},
   "source": [
    "Kerr matrix and ahharmonicities for order $d=4$ of nonlinerity can be calculated using the approach presented in the paper\n",
    "https://www.nature.com/articles/s41534-021-00461-8\n",
    "$$\\mathbf{\\chi} = \\frac{\\hbar}{2} \\Omega P E_J ^ {-1} P \\Omega,$$ where\n",
    "\n",
    "$\\Omega$ is a diagonal matrix with frequencies of normal modes\n",
    "\n",
    "$E_J$ is a diagonal matrix with Josephson energies of non-linear elements\n",
    "\n",
    "$P$ is a matrix of energy participation ratios  "
   ]
  },
  {
   "cell_type": "code",
   "execution_count": 5,
   "id": "10eb6286",
   "metadata": {
    "ExecuteTime": {
     "end_time": "2024-09-10T11:19:13.687681Z",
     "start_time": "2024-09-10T11:19:13.671449Z"
    }
   },
   "outputs": [
    {
     "name": "stdout",
     "output_type": "stream",
     "text": [
      "Plasma frequency for transmon qubit is 6.73 GHz and anharmonicity -157.48 MHz, therefore qubit transition is 6.577 GHz\n"
     ]
    }
   ],
   "source": [
    "kerr_matrix, anharmonicities = nonlinear_circuit.get_kerr_matrix()\n",
    "kerr_matrix / (2 * np.pi), anharmonicities / (2 * np.pi)\n",
    "\n",
    "f_p = frequencies[0]\n",
    "alpha = - anharmonicities[0] / (2 * np.pi) / 1e6\n",
    "\n",
    "print(f\"Plasma frequency for transmon qubit is {f_p /1e9 :.2f} GHz and \\\n",
    "anharmonicity {alpha :.2f} MHz, therefore qubit transition is {(f_p + alpha * 1e6) / 1e9 :.3f} GHz\")"
   ]
  },
  {
   "cell_type": "markdown",
   "id": "5bdae77e",
   "metadata": {},
   "source": [
    "## Calculate spectrum using basis of harmonic modes"
   ]
  },
  {
   "cell_type": "markdown",
   "id": "6668d58c",
   "metadata": {},
   "source": [
    "Alternatively, energy spectrum of the system can be calculated in the basis of harmonic modes \n",
    "$$H = H_{lin} + \\sum_{j=1} ^ J \\left(\\sum_{p=3} ^ {p_{\\text{max}}} \\frac{\\varphi_0 ^ p}{p L_p} \\hat{\\varphi}_j \\right),$$\n",
    "where \n",
    "\n",
    "$H_{lin} = \\sum_m \\hbar a ^ {\\dagger}_m a_m$ is a linear part of Hamiltonian,\n",
    "\n",
    "$J$ is a number of non-linear elements in the system,\n",
    "\n",
    "$p_{\\text{max}}$ is a maximum order of expansion"
   ]
  },
  {
   "cell_type": "code",
   "execution_count": 6,
   "id": "e31a8324",
   "metadata": {
    "ExecuteTime": {
     "end_time": "2024-09-10T11:19:14.738463Z",
     "start_time": "2024-09-10T11:19:14.704210Z"
    }
   },
   "outputs": [
    {
     "data": {
      "text/plain": [
       "array([0.00000000e+00, 6.56895782e+09, 1.29627408e+10, 1.91808450e+10,\n",
       "       2.53181582e+10, 3.19515260e+10, 3.96647127e+10])"
      ]
     },
     "execution_count": 6,
     "metadata": {},
     "output_type": "execute_result"
    }
   ],
   "source": [
    "ham = nonlinear_circuit.get_hamiltonian_perturbation(modes=[0], num_levels=[7], order=4)\n",
    "\n",
    "import scipy\n",
    "energies, states = np.linalg.eigh(ham)\n",
    "transitions = (energies - energies[0]) / hbar / 2 / np.pi\n",
    "transitions"
   ]
  },
  {
   "cell_type": "markdown",
   "id": "23beb094",
   "metadata": {},
   "source": [
    "Using this Hamiltonian one can calculate self-Kerr and cross-Kerr coefficients as matrix elements of single-photon and double photon states in the dispersive limit.\n",
    "\n",
    "For single photon states $|m \\rangle$: $\\langle m|H|m \\rangle = \\hbar \\omega_m + A_m$, where states $|m \\rangle = |0...1...0 \\rangle $ with one ptohon in mode $m$\n",
    "\n",
    "For double photon states $|m n \\rangle$: $\\langle mn|H|mn \\rangle = \\hbar \\omega_m + A_m + \\hbar \\omega_n + A_n$, where states $|nm \\rangle = |0...1...1...0 \\rangle $ with one ptohon in mode $m$ and one ptohon in mode $n$"
   ]
  },
  {
   "cell_type": "code",
   "execution_count": 7,
   "id": "449c97b7",
   "metadata": {
    "ExecuteTime": {
     "end_time": "2024-09-10T11:19:15.461535Z",
     "start_time": "2024-09-10T11:19:15.444531Z"
    }
   },
   "outputs": [
    {
     "data": {
      "text/plain": [
       "array([[-1.57481539e+08+0.j]])"
      ]
     },
     "execution_count": 7,
     "metadata": {},
     "output_type": "execute_result"
    }
   ],
   "source": [
    "omegas = nonlinear_circuit.circuit.w[2:].imag\n",
    "energies, kerr = nonlinear_circuit.get_kerr_matrix_hamiltonian(modes=[0], num_levels=[6])\n",
    "kerr / hbar / 2 / np.pi "
   ]
  },
  {
   "cell_type": "markdown",
   "id": "aecdcdad",
   "metadata": {},
   "source": [
    "## External flux in SQUID"
   ]
  },
  {
   "cell_type": "markdown",
   "id": "b5a7531c",
   "metadata": {},
   "source": [
    "According to the second Kirchhoff's law for each loop $\\ell$ presented in a circuit\n",
    "$$\\sum_{i \\in \\ell} \\Delta \\Phi_i = \\Phi_{\\text{ext}},$$\n",
    "where $\\Delta \\Phi_i$ is flux difference across element $i$ in a loop.\n",
    "Using this approach we can find stationary phases on each two-port element in a circuit.\n",
    "For example, for a SQUID element formed by two Josepshon junctions $E_{J1}$ and $E_{J2}$. For this loop with two physical nodes 1 and 0 (grounded node) one can add a strationary node 2 nd rewrite the second Kirchhoff's law\n",
    "$$ \\Delta \\phi_{J1} + \\Delta \\phi_{J2} = 0 - \\phi_1 + \\phi_1 - \\phi_2 = \\phi_{\\text{ext}}$$\n",
    "This eqution defines a constraint for generalized coordinates $\\Phi_1$ and $\\Phi_2$ which can be used for potential enrgy minimization of the circuit\n",
    "$$U(\\phi_1, \\phi_2) = E_{J1} (1 - \\cos (\\phi_1))  + E_{J2} (1 - \\cos (\\phi_1 - \\phi_2)) \\rightarrow \\text{min} (\\phi_1, \\phi_2)$$\n",
    "\n",
    "The necessity of an additional stationary node is equivalent to the presence of a voltage source in the loop."
   ]
  },
  {
   "cell_type": "code",
   "execution_count": 8,
   "id": "231e5b59",
   "metadata": {
    "ExecuteTime": {
     "end_time": "2024-09-10T11:19:16.664643Z",
     "start_time": "2024-09-10T11:19:16.660397Z"
    }
   },
   "outputs": [
    {
     "data": {
      "text/html": [
       "<img src=\"pictures/SQUID.png\" width=\"400\" height=\"400\"/>"
      ],
      "text/plain": [
       "<IPython.core.display.Image object>"
      ]
     },
     "execution_count": 8,
     "metadata": {},
     "output_type": "execute_result"
    }
   ],
   "source": [
    "Image(url=\"pictures/SQUID.png\", width=400, height=400) "
   ]
  },
  {
   "cell_type": "markdown",
   "id": "3bec09e8",
   "metadata": {},
   "source": [
    "The first step is to define a loop as a set of elements as follows"
   ]
  },
  {
   "cell_type": "code",
   "execution_count": 9,
   "id": "5f43beb8",
   "metadata": {
    "ExecuteTime": {
     "end_time": "2024-09-10T11:19:17.886263Z",
     "start_time": "2024-09-10T11:19:17.867498Z"
    }
   },
   "outputs": [
    {
     "name": "stdout",
     "output_type": "stream",
     "text": [
      "Stationary node stationary_node_SQUID_loop for loop SQUID_loop was added to the circuit None\n"
     ]
    }
   ],
   "source": [
    "from tlsim2.circuit_stationary_phases import CircuitStationaryPhases\n",
    "\n",
    "circuit_stationary_phases = CircuitStationaryPhases(linear_circuit)\n",
    "circuit_stationary_phases.add_circuit_loop(loop_name='SQUID_loop', loop=[jj1, jj2])\n",
    "circuit_stationary_phases.setup_stationary_phases()"
   ]
  },
  {
   "cell_type": "markdown",
   "id": "3ce992df",
   "metadata": {},
   "source": [
    "After definition of all loops, ona can calculate and set sttaionary phases to a circuit elements"
   ]
  },
  {
   "cell_type": "code",
   "execution_count": 10,
   "id": "8d77d2ee",
   "metadata": {
    "ExecuteTime": {
     "end_time": "2024-09-10T11:19:19.395445Z",
     "start_time": "2024-09-10T11:19:18.660039Z"
    },
    "scrolled": true
   },
   "outputs": [
    {
     "data": {
      "text/plain": [
       "Text(0, 0.5, 'frequency (GHz)')"
      ]
     },
     "execution_count": 10,
     "metadata": {},
     "output_type": "execute_result"
    },
    {
     "data": {
      "image/png": "[encoded data removed]",
      "text/plain": [
       "<Figure size 432x288 with 1 Axes>"
      ]
     },
     "metadata": {
      "image/png": {
       "height": 263,
       "width": 385
      },
      "needs_background": "light"
     },
     "output_type": "display_data"
    }
   ],
   "source": [
    "phi_ext =  np.linspace(0., 2 * np.pi, 51)\n",
    "\n",
    "frequencies01 = np.zeros(len(phi_ext))\n",
    "for i, flux in enumerate(phi_ext):\n",
    "    circuit_stationary_phases.reset_phases()\n",
    "    circuit_stationary_phases.circuit_loops['SQUID_loop'].flux = flux\n",
    "    stationary_phases = circuit_stationary_phases.get_stationary_phases()\n",
    "    circuit_stationary_phases.set_stationary_phases(stationary_phases, report=False)\n",
    "    linear_circuit.compute_system_modes(only_positive=True)\n",
    "    ham = nonlinear_circuit.get_hamiltonian_perturbation(modes=[0], num_levels=[5], order=4)\n",
    "    energies, states = np.linalg.eigh(ham)\n",
    "    transitions = (energies - energies[0]) / hbar / 2 / np.pi\n",
    "    frequencies01[i] =  transitions[1]\n",
    "    \n",
    "\n",
    "plt.plot(phi_ext / np.pi / 2, frequencies01 / 1e9)\n",
    "plt.xlabel(\"$\\Phi / \\Phi_0$ ()\")\n",
    "plt.ylabel(\"frequency (GHz)\")"
   ]
  },
  {
   "cell_type": "markdown",
   "id": "5d00ea38",
   "metadata": {},
   "source": [
    "## Compare result with theory"
   ]
  },
  {
   "cell_type": "markdown",
   "id": "75dfe941",
   "metadata": {},
   "source": [
    "Plasma frequency of transmon qubit is defined as $\\omega_{p} =  \\sqrt{8 E_C E_J}$,\n",
    "\n",
    "anharmonicity for transmon qubit is $\\alpha = -E_C$\n",
    "\n",
    "and transition $\\omega_{01} =  \\omega_p + \\alpha$ "
   ]
  },
  {
   "cell_type": "code",
   "execution_count": 11,
   "id": "45c50bd6",
   "metadata": {
    "ExecuteTime": {
     "end_time": "2024-09-10T11:19:20.669724Z",
     "start_time": "2024-09-10T11:19:20.659467Z"
    }
   },
   "outputs": [
    {
     "name": "stdout",
     "output_type": "stream",
     "text": [
      "Plasma frequency for transmon qubit is 6.73 GHz and anharmonicity -157.48 MHz\n"
     ]
    }
   ],
   "source": [
    "EC = e ** 2 / Cq / 2 \n",
    "f_p = np.sqrt(8 * EC * EJ / h / h)\n",
    "\n",
    "print(f\"Plasma frequency for transmon qubit is {f_p / 1e9 :.2f} GHz and anharmonicity {- EC / h / 1e6 :.2f} MHz\")"
   ]
  },
  {
   "cell_type": "markdown",
   "id": "068b5f63",
   "metadata": {},
   "source": [
    "Energy levels of transmon are calculated using the following equation\n",
    "$$E_m = \\sqrt{8 E_C E_J} (m + \\frac{1}{2}) - \\frac{E_C}{12}(6 m ^ 2 + 6 m + 3) $$"
   ]
  },
  {
   "cell_type": "code",
   "execution_count": 12,
   "id": "a5745cc8",
   "metadata": {
    "ExecuteTime": {
     "end_time": "2024-09-10T11:19:21.410219Z",
     "start_time": "2024-09-10T11:19:21.392422Z"
    }
   },
   "outputs": [
    {
     "data": {
      "text/plain": [
       "(array([0.00000000e+00, 6.57710704e+09, 1.29967325e+10, 1.92588765e+10,\n",
       "        2.53635389e+10]),\n",
       " -157.4815392248745)"
      ]
     },
     "execution_count": 12,
     "metadata": {},
     "output_type": "execute_result"
    }
   ],
   "source": [
    "EC = e ** 2 / Cq / 2\n",
    "def transmon_levels(m, EC, EJ):\n",
    "    return np.sqrt(8 * EC * EJ) * (m + 1 / 2) - EC / 12 * (6 * m ** 2 + 6 * m + 3)\n",
    "\n",
    "energies =  np.asarray([transmon_levels(m, EC, EJ) / hbar / 2 / np.pi for m in range(5)])\n",
    "transitions = energies - energies[0]\n",
    "anharmonicity = (transitions[2] - transitions[1]) - ( transitions[1] - transitions[0])\n",
    "transitions, anharmonicity / 1e6"
   ]
  },
  {
   "cell_type": "markdown",
   "id": "2df66a09",
   "metadata": {},
   "source": [
    "For SDUID one can use the foloowing equation\n",
    "$$E_{J, \\text{eff}} =  E_{J, \\Sigma} \\sqrt{\\cos ^ 2 \\left(\\pi \\frac{\\Phi}{\\Phi_0} \\right) + d ^ 2\\sin ^ 2 \\left(\\pi \\frac{\\Phi}{\\Phi_0} \\right)},$$\n",
    "where $E_{J, \\Sigma}= E_{J1} + E_{J2}$ and $d= \\frac{E_{J1} - E_{J2}} {E_{J1} + E_{J2}}$"
   ]
  },
  {
   "cell_type": "code",
   "execution_count": 13,
   "id": "d9ccab1a",
   "metadata": {
    "ExecuteTime": {
     "end_time": "2024-09-10T11:19:22.262394Z",
     "start_time": "2024-09-10T11:19:22.147605Z"
    }
   },
   "outputs": [
    {
     "data": {
      "text/plain": [
       "<matplotlib.legend.Legend at 0x2b7d9ccbdc0>"
      ]
     },
     "execution_count": 13,
     "metadata": {},
     "output_type": "execute_result"
    },
    {
     "data": {
      "image/png": "[encoded data removed]",
      "text/plain": [
       "<Figure size 432x288 with 1 Axes>"
      ]
     },
     "metadata": {
      "image/png": {
       "height": 263,
       "width": 385
      },
      "needs_background": "light"
     },
     "output_type": "display_data"
    }
   ],
   "source": [
    "def ej_SQUID(ej1, ej2):\n",
    "    d = (ej2 - ej1) / (ej2 + ej1)\n",
    "    e_sum = ej1 + ej2\n",
    "    return lambda x: e_sum * np.sqrt(np.cos(x / 2) ** 2 + d ** 2 * np.sin(x / 2)**2)\n",
    "\n",
    "frequencies01_theory = np.zeros(len(phi_ext))\n",
    "for i, flux in enumerate(phi_ext):\n",
    "    EJ_eff = ej_SQUID(1 * EJ / 6, 5 * EJ / 6)(flux)\n",
    "    energies =  np.asarray([transmon_levels(m, EC, EJ_eff) / hbar / 2 / np.pi for m in range(2)])\n",
    "    transitions = energies - energies[0]\n",
    "    frequencies01_theory[i] = transitions[1]\n",
    "    \n",
    "plt.plot(phi_ext / 2 / np.pi, frequencies01 / 1e9, label='tlsim2', marker='.')\n",
    "plt.plot(phi_ext / 2 / np.pi, frequencies01_theory / 1e9, label='theory')\n",
    "plt.xlabel(\"$\\Phi / \\Phi_0$ ()\")\n",
    "plt.ylabel(\"frequency (GHz)\")\n",
    "plt.legend()"
   ]
  },
  {
   "cell_type": "markdown",
   "id": "0fc24e9c",
   "metadata": {},
   "source": [
    "# Circuit of coupled qubit and resonator"
   ]
  },
  {
   "cell_type": "markdown",
   "id": "7bb95d95",
   "metadata": {},
   "source": [
    "## Linear approximation"
   ]
  },
  {
   "cell_type": "code",
   "execution_count": 14,
   "id": "76befc8a",
   "metadata": {
    "ExecuteTime": {
     "end_time": "2024-09-10T11:19:25.576720Z",
     "start_time": "2024-09-10T11:19:25.545764Z"
    }
   },
   "outputs": [
    {
     "name": "stdout",
     "output_type": "stream",
     "text": [
      "Transmon ratio is 64.0673881139938\n"
     ]
    },
    {
     "data": {
      "text/plain": [
       "(array([5.62298233e+09, 7.81259956e+09]), array([0., 0.]))"
      ]
     },
     "execution_count": 14,
     "metadata": {},
     "output_type": "execute_result"
    }
   ],
   "source": [
    "from tlsim2.lumped import LumpedTwoTerminal\n",
    "from tlsim2.lumped import JosephsonJunction\n",
    "\n",
    "Cr = 166.448e-12 * 4e-3 / 2\n",
    "Lr = 1 / Cr / (2 * np.pi * 7.9e9) ** 2\n",
    "CJ = 73e-15\n",
    "EJ = 17e9 * h\n",
    "Cc = 10e-15\n",
    "\n",
    "print(f\"Transmon ratio is {EJ / (e ** 2 / 2 / CJ)}\")\n",
    "\n",
    "# resonator transmission line\n",
    "capacitor_res = LumpedTwoTerminal(name='Cr', c=Cr)\n",
    "inductor_res = LumpedTwoTerminal(name='Lr', l=Lr)\n",
    "\n",
    "# qubit capacitor\n",
    "capacitor_qubit = LumpedTwoTerminal(name='CJ', c=CJ)\n",
    "\n",
    "# qubit nonlinear element\n",
    "jj = JosephsonJunction(name='JJ', ej=EJ)\n",
    "\n",
    "# coupling capacitor\n",
    "capacitor_coupl = LumpedTwoTerminal(name='Cc', c=Cc)\n",
    "\n",
    "\n",
    "from tlsim2.circuit import Circuit\n",
    "\n",
    "linear_circuit = Circuit()\n",
    "linear_circuit.add_element(capacitor_qubit, {'i': 0, 'o': 1})\n",
    "linear_circuit.add_element(jj, {'i': 0, 'o': 1})\n",
    "linear_circuit.add_element(capacitor_res, {'i': 2, 'o': 0})\n",
    "linear_circuit.add_element(inductor_res, {'i': 2, 'o': 0})\n",
    "linear_circuit.add_element(capacitor_coupl, {'i': 1, 'o': 2})\n",
    "linear_circuit.short(0)\n",
    "\n",
    "w, v, node_names = linear_circuit.compute_system_modes(only_positive=True)\n",
    "w = w / 2 / np.pi\n",
    "frequencies, decays  =  w.imag, w.real\n",
    "frequencies, decays "
   ]
  },
  {
   "cell_type": "markdown",
   "id": "58ee78a6",
   "metadata": {},
   "source": [
    "## Nonlinear circuit"
   ]
  },
  {
   "cell_type": "code",
   "execution_count": 15,
   "id": "cafd9b31",
   "metadata": {
    "ExecuteTime": {
     "end_time": "2024-09-10T11:19:26.367478Z",
     "start_time": "2024-09-10T11:19:26.352071Z"
    }
   },
   "outputs": [
    {
     "name": "stdout",
     "output_type": "stream",
     "text": [
      "Number of modes in the system is 2 and number of nonlinear elements is 1\n"
     ]
    },
    {
     "data": {
      "text/plain": [
       "(array([[-4.57628667e+08, -5.07945027e+06],\n",
       "        [-5.07945027e+06, -5.63793681e+04]]),\n",
       " array([-2.28814333e+08, -2.81896841e+04]))"
      ]
     },
     "execution_count": 15,
     "metadata": {},
     "output_type": "execute_result"
    }
   ],
   "source": [
    "from tlsim2.quantum_circuit import QuantumCircuit\n",
    "nonlinear_circuit = QuantumCircuit(linear_circuit)\n",
    "\n",
    "print(f\"Number of modes in the system is {nonlinear_circuit.num_modes} and \\\n",
    "number of nonlinear elements is {nonlinear_circuit.num_nonlinear_elements}\")\n",
    "\n",
    "kerr_matrix, anharmonicities = nonlinear_circuit.get_kerr_matrix()\n",
    "kerr_matrix / (2 * np.pi), anharmonicities / (2 * np.pi)"
   ]
  },
  {
   "cell_type": "code",
   "execution_count": 16,
   "id": "495a0c7f",
   "metadata": {
    "ExecuteTime": {
     "end_time": "2024-09-10T11:19:26.698595Z",
     "start_time": "2024-09-10T11:19:26.654592Z"
    }
   },
   "outputs": [
    {
     "data": {
      "text/plain": [
       "array([0.00000000e+00, 5.38639111e+09, 7.81008035e+09, 1.07859021e+10,\n",
       "       1.31924425e+10, 1.56201398e+10, 1.66449251e+10, 1.85862136e+10,\n",
       "       2.09984810e+10, 2.34301785e+10, 2.44481174e+10, 2.63865360e+10,\n",
       "       2.88045064e+10, 3.12401967e+10, 3.22512181e+10, 3.41868702e+10,\n",
       "       3.66105200e+10, 3.90503221e+10, 4.00542264e+10, 4.19872224e+10,\n",
       "       4.44168626e+10, 4.68703655e+10, 4.78571511e+10, 4.97885069e+10,\n",
       "       5.22552263e+10, 5.56612441e+10, 5.76490573e+10, 6.35066997e+10])"
      ]
     },
     "execution_count": 16,
     "metadata": {},
     "output_type": "execute_result"
    }
   ],
   "source": [
    "ham = nonlinear_circuit.get_hamiltonian_perturbation(modes=[0, 1], num_levels=[4, 7], order=4)\n",
    "energies, states = np.linalg.eigh(ham)\n",
    "transitions = (energies - energies[0]) / hbar / 2 / np.pi\n",
    "transitions"
   ]
  },
  {
   "cell_type": "code",
   "execution_count": 17,
   "id": "433ff6d4",
   "metadata": {
    "ExecuteTime": {
     "end_time": "2024-09-10T11:19:26.982034Z",
     "start_time": "2024-09-10T11:19:26.950358Z"
    }
   },
   "outputs": [
    {
     "data": {
      "text/plain": [
       "(array([[-5.10231954e+08+0.j, -4.12499402e+06+0.j],\n",
       "        [-4.12499402e+06+0.j, -3.84777879e+04+0.j]]),\n",
       " array([-2.55115977e+08+0.j, -1.92388939e+04+0.j]))"
      ]
     },
     "execution_count": 17,
     "metadata": {},
     "output_type": "execute_result"
    }
   ],
   "source": [
    "energies, kerr = nonlinear_circuit.get_kerr_matrix_hamiltonian(modes=[0, 1], num_levels=[7, 7])\n",
    "kerr / hbar / 2 / np.pi "
   ]
  },
  {
   "cell_type": "markdown",
   "id": "9cb08a62",
   "metadata": {},
   "source": [
    "## Comparison with theory"
   ]
  },
  {
   "cell_type": "markdown",
   "id": "3a1173a9",
   "metadata": {},
   "source": [
    "From Koch article the dispersive shift in MHz is calculated by the equation \n",
    "$$\\hbar \\chi = - (\\beta e V_{\\text{rms}}) ^ 2 \\sqrt{\\frac{E_J}{2 E_C}}  \\frac{E_C}{\\hbar \\Delta_0 (\\hbar \\Delta_0 - E_C)}$$\n",
    "in the limit when $EC / EJ << 1$"
   ]
  },
  {
   "cell_type": "code",
   "execution_count": 18,
   "id": "2314a6a9",
   "metadata": {
    "ExecuteTime": {
     "end_time": "2024-09-10T11:19:27.840078Z",
     "start_time": "2024-09-10T11:19:27.820942Z"
    }
   },
   "outputs": [
    {
     "data": {
      "text/plain": [
       "-1.751793518227923"
      ]
     },
     "execution_count": 18,
     "metadata": {},
     "output_type": "execute_result"
    }
   ],
   "source": [
    "v_rms0 = np.sqrt(hbar * 2 * np.pi * frequencies[1] / 2 / Cr)\n",
    "beta = Cc / (CJ + Cc) \n",
    "EC = e ** 2 / (CJ + Cc) / 2\n",
    "Delta0 = hbar * 2 * np.pi * frequencies[1] - (hbar * 2 * np.pi * frequencies[0] - EC)\n",
    "\n",
    "chi = -(beta * e * v_rms0) ** 2 * np.sqrt(EJ / EC / 2) * EC / (Delta0 * (Delta0 - EC)) / hbar\n",
    "chi / 2 / np.pi / 1e6"
   ]
  },
  {
   "cell_type": "markdown",
   "id": "582d327a",
   "metadata": {},
   "source": [
    "# Circuit of coupled transmon qubit and $\\lambda / 4$ resonator"
   ]
  },
  {
   "cell_type": "code",
   "execution_count": 19,
   "id": "b5dfa672",
   "metadata": {
    "ExecuteTime": {
     "end_time": "2024-09-10T11:19:28.489923Z",
     "start_time": "2024-09-10T11:19:28.458148Z"
    }
   },
   "outputs": [],
   "source": [
    "from tlsim2.tl import MultiTransmissionLine\n",
    "from tlsim2.tl import default_tl_basis\n",
    "\n",
    "from tlsim2.lumped import LumpedTwoTerminal\n",
    "from tlsim2.lumped import JosephsonJunction\n",
    "\n",
    "from tlsim2.circuit import Circuit\n",
    "\n",
    "ll = [[416.120e-9]]  # per-unit-length inductance for a 50-ohm TL on cold silicon\n",
    "cl = [[166.448e-12]]  # per-unit-length capacitance for a 50-ohm TL on cold silicon\n",
    "\n",
    "vp = 1/np.sqrt(np.asarray(cl)*np.asarray(ll))\n",
    "length = 4e-3\n",
    "\n",
    "CJ = 73e-15\n",
    "EJ = 16e9 * h\n",
    "Cc = 4e-15"
   ]
  },
  {
   "cell_type": "markdown",
   "id": "f0fcdcc2",
   "metadata": {},
   "source": [
    "## Make an element from TL resonator with frequency cutoff"
   ]
  },
  {
   "cell_type": "code",
   "execution_count": 20,
   "id": "d258ee96",
   "metadata": {
    "ExecuteTime": {
     "end_time": "2024-09-10T11:19:29.105022Z",
     "start_time": "2024-09-10T11:19:29.057692Z"
    }
   },
   "outputs": [
    {
     "data": {
      "text/plain": [
       "(array([4.92951317e+10, 2.30217994e+10, 7.50985293e+09]), array([0., 0., 0.]))"
      ]
     },
     "execution_count": 20,
     "metadata": {},
     "output_type": "execute_result"
    }
   ],
   "source": [
    "# resonator transmission line\n",
    "default_basis1 = default_tl_basis(1, n_harmonics=1)\n",
    "tl = MultiTransmissionLine('TL', n=1, l=length, ll=ll,\n",
    "                           cl=cl, basis=default_basis1)\n",
    "\n",
    "tl_circuit = Circuit()\n",
    "tl_circuit.add_element(tl, {'i0': 2, 'o0': 0})\n",
    "tl_circuit.short(0)\n",
    "\n",
    "w, v, node_names = tl_circuit.compute_system_modes(only_positive=True)\n",
    "w = w / 2 / np.pi\n",
    "frequencies, decays  =  w.imag, w.real\n",
    "frequencies, decays "
   ]
  },
  {
   "cell_type": "code",
   "execution_count": 21,
   "id": "310b223a",
   "metadata": {
    "ExecuteTime": {
     "end_time": "2024-09-10T11:19:29.388575Z",
     "start_time": "2024-09-10T11:19:29.361742Z"
    }
   },
   "outputs": [],
   "source": [
    "cutoff_high = 8e9*(2*np.pi)\n",
    "resonator = tl_circuit.make_element({2: 'res_open'}, cutoff_low = 0, cutoff_high = cutoff_high)"
   ]
  },
  {
   "cell_type": "markdown",
   "id": "77399e27",
   "metadata": {},
   "source": [
    "## In linear approximation"
   ]
  },
  {
   "cell_type": "code",
   "execution_count": 22,
   "id": "429910b7",
   "metadata": {
    "ExecuteTime": {
     "end_time": "2024-09-10T11:19:30.053004Z",
     "start_time": "2024-09-10T11:19:30.028691Z"
    }
   },
   "outputs": [],
   "source": [
    "# qubit capacitor\n",
    "capacitor_qubit = LumpedTwoTerminal(name='CJ', c=CJ)\n",
    "\n",
    "# qubit nonlinear element\n",
    "jj = JosephsonJunction(name='JJ', ej=EJ)\n",
    "\n",
    "# coupling capacitor\n",
    "capacitor_coupl = LumpedTwoTerminal(name='Cc', c=Cc)"
   ]
  },
  {
   "cell_type": "code",
   "execution_count": 23,
   "id": "5dd7ebb4",
   "metadata": {
    "ExecuteTime": {
     "end_time": "2024-09-10T11:19:30.369712Z",
     "start_time": "2024-09-10T11:19:30.354199Z"
    }
   },
   "outputs": [
    {
     "data": {
      "text/plain": [
       "(array([2.93587488e+10, 5.67185111e+09, 7.47048382e+09]), array([0., 0., 0.]))"
      ]
     },
     "execution_count": 23,
     "metadata": {},
     "output_type": "execute_result"
    }
   ],
   "source": [
    "from tlsim2.circuit import Circuit\n",
    "\n",
    "linear_circuit = Circuit()\n",
    "linear_circuit.add_element(capacitor_qubit, {'i': 0, 'o': 1})\n",
    "linear_circuit.add_element(jj, {'i': 0, 'o': 1})\n",
    "linear_circuit.add_element(resonator, {'res_open': 2})\n",
    "linear_circuit.add_element(capacitor_coupl, {'i': 1, 'o': 2})\n",
    "linear_circuit.short(0)\n",
    "\n",
    "w, v, node_names = linear_circuit.compute_system_modes(only_positive=True)\n",
    "w = w / 2 / np.pi\n",
    "frequencies, decays  =  w.imag, w.real\n",
    "frequencies, decays "
   ]
  },
  {
   "cell_type": "markdown",
   "id": "3d19cfdc",
   "metadata": {},
   "source": [
    "## Nonlinear circuit"
   ]
  },
  {
   "cell_type": "markdown",
   "id": "9be047d8",
   "metadata": {},
   "source": [
    "Check all nonlinear elements in the circuit"
   ]
  },
  {
   "cell_type": "code",
   "execution_count": 24,
   "id": "86582b87",
   "metadata": {
    "ExecuteTime": {
     "end_time": "2024-09-10T11:19:31.287528Z",
     "start_time": "2024-09-10T11:19:31.271870Z"
    }
   },
   "outputs": [
    {
     "data": {
      "text/plain": [
       "OrderedDict([('JJ', <tlsim2.lumped.JosephsonJunction at 0x2b7d7d6d0d0>)])"
      ]
     },
     "execution_count": 24,
     "metadata": {},
     "output_type": "execute_result"
    }
   ],
   "source": [
    "linear_circuit.nonlinear_elements"
   ]
  },
  {
   "cell_type": "markdown",
   "id": "8573d6cd",
   "metadata": {},
   "source": [
    "Now one can create quantum nonlinear circuit from this linear circuit"
   ]
  },
  {
   "cell_type": "code",
   "execution_count": 25,
   "id": "694ec12c",
   "metadata": {
    "ExecuteTime": {
     "end_time": "2024-09-10T11:19:31.936113Z",
     "start_time": "2024-09-10T11:19:31.920099Z"
    }
   },
   "outputs": [
    {
     "name": "stdout",
     "output_type": "stream",
     "text": [
      "Number of modes in the system is 3 and number of nonlinear elements is 1\n"
     ]
    }
   ],
   "source": [
    "from tlsim2.quantum_circuit import QuantumCircuit\n",
    "nonlinear_circuit = QuantumCircuit(linear_circuit)\n",
    "\n",
    "print(f\"Number of modes in the system is {nonlinear_circuit.num_modes} and \\\n",
    "number of nonlinear elements is {nonlinear_circuit.num_nonlinear_elements}\")"
   ]
  },
  {
   "cell_type": "code",
   "execution_count": 26,
   "id": "29b2a5d3",
   "metadata": {
    "ExecuteTime": {
     "end_time": "2024-09-10T11:19:32.285098Z",
     "start_time": "2024-09-10T11:19:32.253686Z"
    }
   },
   "outputs": [
    {
     "data": {
      "text/plain": [
       "(array([[8.77178015e-05],\n",
       "        [9.97914455e-01],\n",
       "        [1.99782676e-03]]),\n",
       " 0.9999999999999988)"
      ]
     },
     "execution_count": 26,
     "metadata": {},
     "output_type": "execute_result"
    }
   ],
   "source": [
    " nonlinear_circuit.get_epr_coefficients(), np.sum(nonlinear_circuit.get_epr_coefficients())"
   ]
  },
  {
   "cell_type": "markdown",
   "id": "0cd42d49",
   "metadata": {},
   "source": [
    "Kerr matrix defines the Hamiltonian function in the following form\n",
    "$$H = \\sum_{m} \\hbar \\omega_m a_m ^ {\\dagger} a_m + \\frac{1}{2} \\sum_{n, m} \\chi_{m n} a_m ^ {\\dagger} a_m a_n ^ {\\dagger} a_n$$\n",
    "From this approach anharmonicity of mode $m$ is calculated as $A_m =  \\frac{1}{2} \\chi_{mm}$"
   ]
  },
  {
   "cell_type": "code",
   "execution_count": 27,
   "id": "26e6b3f1",
   "metadata": {
    "ExecuteTime": {
     "end_time": "2024-09-10T11:19:32.967701Z",
     "start_time": "2024-09-10T11:19:32.951849Z"
    }
   },
   "outputs": [
    {
     "data": {
      "text/plain": [
       "(array([[1.03626442e+02, 2.27752652e+05, 6.00553720e+02],\n",
       "        [2.27752652e+05, 5.00560178e+08, 1.31991121e+06],\n",
       "        [6.00553720e+02, 1.31991121e+06, 3.48043186e+03]]),\n",
       " array([5.18132211e+01, 2.50280089e+08, 1.74021593e+03]))"
      ]
     },
     "execution_count": 27,
     "metadata": {},
     "output_type": "execute_result"
    }
   ],
   "source": [
    "kerr_matrix, anharmonicities = nonlinear_circuit.get_kerr_matrix()\n",
    "kerr_matrix / (2 * np.pi), anharmonicities / (2 * np.pi)"
   ]
  },
  {
   "cell_type": "code",
   "execution_count": 28,
   "id": "4ed76c94",
   "metadata": {
    "ExecuteTime": {
     "end_time": "2024-09-10T11:19:33.300476Z",
     "start_time": "2024-09-10T11:19:33.284812Z"
    }
   },
   "outputs": [
    {
     "data": {
      "text/plain": [
       "array([0.00000000e+00, 5.41531343e+09, 7.46985112e+09, 1.08468721e+10,\n",
       "       1.28842202e+10, 1.49397011e+10, 1.67750261e+10, 1.83142556e+10,\n",
       "       2.03531264e+10, 2.24095500e+10, 2.42428798e+10, 2.57816415e+10,\n",
       "       2.78220319e+10, 2.98793977e+10, 3.17107260e+10, 3.32490297e+10,\n",
       "       3.52909368e+10, 3.73492524e+10, 3.91785646e+10, 4.07164204e+10,\n",
       "       4.27598656e+10, 4.48216714e+10, 4.66463959e+10, 4.81838890e+10,\n",
       "       5.02373925e+10, 5.41143410e+10, 5.56680709e+10, 6.15946354e+10])"
      ]
     },
     "execution_count": 28,
     "metadata": {},
     "output_type": "execute_result"
    }
   ],
   "source": [
    "ham = nonlinear_circuit.get_hamiltonian_perturbation(modes=[1, 2], num_levels=[4, 7], order=4)\n",
    "\n",
    "import scipy\n",
    "energies, _ = np.linalg.eigh(ham)\n",
    "transitions = (energies - energies[0]) / hbar / 2 / np.pi\n",
    "transitions"
   ]
  },
  {
   "cell_type": "code",
   "execution_count": 29,
   "id": "9860dc9e",
   "metadata": {
    "ExecuteTime": {
     "end_time": "2024-09-10T11:19:33.758889Z",
     "start_time": "2024-09-10T11:19:33.733253Z"
    }
   },
   "outputs": [
    {
     "data": {
      "text/plain": [
       "(array([[-2.50940045e+08+0.j, -1.31991121e+06+0.j],\n",
       "        [-1.31991121e+06+0.j, -6.61695819e+05+0.j]]),\n",
       " array([5.42091106e+09+0.j, 7.46982213e+09+0.j]))"
      ]
     },
     "execution_count": 29,
     "metadata": {},
     "output_type": "execute_result"
    }
   ],
   "source": [
    "energies, kerr = nonlinear_circuit.get_kerr_matrix_hamiltonian(modes=[1, 2], num_levels=[7, 7])\n",
    "kerr / hbar / 2 / np.pi, energies / hbar / 2 / np.pi"
   ]
  }
 ],
 "metadata": {
  "kernelspec": {
   "display_name": "Python 3 (ipykernel)",
   "language": "python",
   "name": "python3"
  },
  "language_info": {
   "codemirror_mode": {
    "name": "ipython",
    "version": 3
   },
   "file_extension": ".py",
   "mimetype": "text/x-python",
   "name": "python",
   "nbconvert_exporter": "python",
   "pygments_lexer": "ipython3",
   "version": "3.9.13"
  },
  "toc": {
   "base_numbering": 1,
   "nav_menu": {},
   "number_sections": true,
   "sideBar": true,
   "skip_h1_title": false,
   "title_cell": "Table of Contents",
   "title_sidebar": "Contents",
   "toc_cell": false,
   "toc_position": {
    "height": "calc(100% - 180px)",
    "left": "10px",
    "top": "150px",
    "width": "165px"
   },
   "toc_section_display": true,
   "toc_window_display": true
  }
 },
 "nbformat": 4,
 "nbformat_minor": 5
}
