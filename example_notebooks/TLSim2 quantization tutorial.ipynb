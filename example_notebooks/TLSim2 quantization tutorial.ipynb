{
 "cells": [
  {
   "cell_type": "code",
   "execution_count": 1,
   "id": "a01fac1b",
   "metadata": {
    "ExecuteTime": {
     "end_time": "2024-08-07T23:23:46.753041Z",
     "start_time": "2024-08-07T23:23:45.824954Z"
    }
   },
   "outputs": [],
   "source": [
    "import sys\n",
    "import numpy as np\n",
    "from matplotlib import pyplot as plt\n",
    "sys.path.append('..')\n",
    "from scipy.constants import hbar, e, h"
   ]
  },
  {
   "cell_type": "markdown",
   "id": "84747d60",
   "metadata": {},
   "source": [
    "# Single transmon qubit"
   ]
  },
  {
   "cell_type": "markdown",
   "id": "def5b519",
   "metadata": {},
   "source": [
    "Calculations for weakly anharmonic systems can be divide into two main parts:\n",
    "1. Calculations for linear circuit, where all nonlinaer elements are replaced by linear inductances\n",
    "\n",
    "2. Calculation of Kerr matrix, which defines anharmonicities and dispersive shifts"
   ]
  },
  {
   "cell_type": "markdown",
   "id": "90096902",
   "metadata": {},
   "source": [
    "## Create linear circuit"
   ]
  },
  {
   "cell_type": "code",
   "execution_count": 2,
   "id": "78ae0bd8",
   "metadata": {
    "ExecuteTime": {
     "end_time": "2024-08-07T23:23:47.334744Z",
     "start_time": "2024-08-07T23:23:46.753041Z"
    }
   },
   "outputs": [
    {
     "data": {
      "text/plain": [
       "(array([5.8278845]), array([0.]))"
      ]
     },
     "execution_count": 2,
     "metadata": {},
     "output_type": "execute_result"
    }
   ],
   "source": [
    "from tlsim2.lumped import LumpedTwoTerminal\n",
    "from tlsim2.lumped import JosephsonJunction\n",
    "\n",
    "Cq = 73e-15\n",
    "EJ = 16e9 * h\n",
    "\n",
    "# qubit capacitor\n",
    "capacitor_qubit = LumpedTwoTerminal(name='Cq', c=Cq)\n",
    "\n",
    "# qubit nonlinear element\n",
    "jj =  JosephsonJunction(name='JJ', ej=EJ)\n",
    "\n",
    "from tlsim2.circuit import Circuit\n",
    "\n",
    "linear_circuit = Circuit()\n",
    "linear_circuit.add_element(capacitor_qubit, {'i': 0, 'o': 1})\n",
    "linear_circuit.add_element(jj, {'i': 0, 'o': 1})\n",
    "linear_circuit.short(0)\n",
    "\n",
    "w, v, node_names = linear_circuit.compute_system_modes()\n",
    "decays = np.real(w/1e9)*2\n",
    "frequencies = np.imag(w/(2*np.pi))/1e9\n",
    "decays = np.real(w/1e9)*2\n",
    "decays = decays[frequencies > 0]\n",
    "frequencies = frequencies[frequencies > 0]\n",
    "frequencies, decays "
   ]
  },
  {
   "cell_type": "markdown",
   "id": "808794c1",
   "metadata": {},
   "source": [
    "## Create nonlinear circuit"
   ]
  },
  {
   "cell_type": "code",
   "execution_count": 3,
   "id": "5ddd7241",
   "metadata": {
    "ExecuteTime": {
     "end_time": "2024-08-07T23:23:47.382334Z",
     "start_time": "2024-08-07T23:23:47.366284Z"
    }
   },
   "outputs": [
    {
     "name": "stdout",
     "output_type": "stream",
     "text": [
      "OrderedDict([('JJ', <tlsim2.lumped.JosephsonJunction object at 0x0000029BB5277340>)])\n",
      "Number of modes in the system is 1 and number of nonlinaer elements is 1\n"
     ]
    }
   ],
   "source": [
    "print(linear_circuit.nonlinear_elements)\n",
    "\n",
    "from tlsim2.quantum_circuit import QuantumCircuit\n",
    "nonlinear_circuit = QuantumCircuit(linear_circuit)\n",
    "\n",
    "print(f\"Number of modes in the system is {nonlinear_circuit.num_modes} and \\\n",
    "number of nonlinaer elements is {nonlinear_circuit.num_nonlinear_elements}\")"
   ]
  },
  {
   "cell_type": "code",
   "execution_count": 4,
   "id": "3a040166",
   "metadata": {
    "ExecuteTime": {
     "end_time": "2024-08-07T23:23:47.397989Z",
     "start_time": "2024-08-07T23:23:47.382334Z"
    }
   },
   "outputs": [
    {
     "data": {
      "text/plain": [
       "(array([[1.]]), 0.9999999999999999)"
      ]
     },
     "execution_count": 4,
     "metadata": {},
     "output_type": "execute_result"
    }
   ],
   "source": [
    "nonlinear_circuit.get_epr_coefficients(), np.sum(nonlinear_circuit.get_epr_coefficients())"
   ]
  },
  {
   "cell_type": "code",
   "execution_count": 5,
   "id": "10eb6286",
   "metadata": {
    "ExecuteTime": {
     "end_time": "2024-08-07T23:23:47.413614Z",
     "start_time": "2024-08-07T23:23:47.397989Z"
    }
   },
   "outputs": [
    {
     "name": "stdout",
     "output_type": "stream",
     "text": [
      "Plasma frequency for transmon qubit is 5.83 GHz and anharmonicity -265.35 MHz, therefore qubit transition is 5.56 GHz\n"
     ]
    }
   ],
   "source": [
    "kerr_matrix, anharmonicities = nonlinear_circuit.get_kerr_matrix()\n",
    "kerr_matrix / (2 * np.pi), anharmonicities / (2 * np.pi)\n",
    "\n",
    "f_p = frequencies[0]\n",
    "alpha = - anharmonicities[0] / (2 * np.pi) / 1e6\n",
    "\n",
    "print(f\"Plasma frequency for transmon qubit is {f_p :.2f} GHz and \\\n",
    "anharmonicity {alpha :.2f} MHz, therefore qubit transition is {f_p + alpha / 1e3 :.2f} GHz\")"
   ]
  },
  {
   "cell_type": "markdown",
   "id": "5d00ea38",
   "metadata": {},
   "source": [
    "## Compare result with theory"
   ]
  },
  {
   "cell_type": "markdown",
   "id": "75dfe941",
   "metadata": {},
   "source": [
    "Plasma frequency of transmon qubit is defined as $\\omega_{p} =  \\sqrt{8 E_C E_J}$,\n",
    "\n",
    "anharmonicity for transmon qubit is $\\alpha = -E_C$\n",
    "\n",
    "and transition $\\omega_{01} =  \\omega_p + \\alpha$ "
   ]
  },
  {
   "cell_type": "code",
   "execution_count": 6,
   "id": "45c50bd6",
   "metadata": {
    "ExecuteTime": {
     "end_time": "2024-08-07T23:23:47.916190Z",
     "start_time": "2024-08-07T23:23:47.900719Z"
    }
   },
   "outputs": [
    {
     "name": "stdout",
     "output_type": "stream",
     "text": [
      "Plasma frequency for transmon qubit is 5.83 GHz and anharmonicity -265.35 MHz\n"
     ]
    }
   ],
   "source": [
    "EC = e ** 2 / (Cq) / 2 / h\n",
    "f_p = np.sqrt(8 * EC * EJ / h)\n",
    "\n",
    "print(f\"Plasma frequency for transmon qubit is {f_p / 1e9 :.2f} GHz and anharmonicity {- EC / 1e6 :.2f} MHz\")"
   ]
  },
  {
   "cell_type": "markdown",
   "id": "582d327a",
   "metadata": {},
   "source": [
    "# Circuit of coupled transmon qubit and $\\lambda / 4$ resonator"
   ]
  },
  {
   "cell_type": "markdown",
   "id": "77399e27",
   "metadata": {},
   "source": [
    "## In linear approximation"
   ]
  },
  {
   "cell_type": "code",
   "execution_count": 7,
   "id": "429910b7",
   "metadata": {
    "ExecuteTime": {
     "end_time": "2024-08-07T23:23:49.064702Z",
     "start_time": "2024-08-07T23:23:49.049272Z"
    }
   },
   "outputs": [],
   "source": [
    "from tlsim2.tl import MultiTransmissionLine\n",
    "from tlsim2.tl import default_tl_basis\n",
    "\n",
    "from tlsim2.lumped import LumpedTwoTerminal\n",
    "from tlsim2.lumped import JosephsonJunction\n",
    "\n",
    "ll = [[416.120e-9]]  # per-unit-length inductance for a 50-ohm TL on cold silicon\n",
    "cl = [[166.448e-12]]  # per-unit-length capacitance for a 50-ohm TL on cold silicon\n",
    "\n",
    "vp = 1/np.sqrt(np.asarray(cl)*np.asarray(ll))\n",
    "length = 4e-3\n",
    "\n",
    "CJ = 73e-15\n",
    "EJ = 16e9 * h\n",
    "Cc = 4e-15\n",
    "\n",
    "# resonator transmission line\n",
    "default_basis1 = default_tl_basis(1, n_harmonics=1)\n",
    "tl = MultiTransmissionLine('TL', n=1, l=length, ll=ll,\n",
    "                           cl=cl, basis=default_basis1)\n",
    "\n",
    "# qubit capacitor\n",
    "capacitor_qubit = LumpedTwoTerminal(name='CJ', c=CJ)\n",
    "\n",
    "# qubit nonlinear element\n",
    "jj = JosephsonJunction(name='JJ', ej=EJ)\n",
    "\n",
    "# coupling capacitor\n",
    "capacitor_coupl = LumpedTwoTerminal(name='Cc', c=Cc)"
   ]
  },
  {
   "cell_type": "code",
   "execution_count": 8,
   "id": "5dd7ebb4",
   "metadata": {
    "ExecuteTime": {
     "end_time": "2024-08-07T23:23:49.521205Z",
     "start_time": "2024-08-07T23:23:49.505081Z"
    }
   },
   "outputs": [
    {
     "data": {
      "text/plain": [
       "(array([47.91402092, 22.88593126,  5.67185095,  7.47048363]),\n",
       " array([0., 0., 0., 0.]))"
      ]
     },
     "execution_count": 8,
     "metadata": {},
     "output_type": "execute_result"
    }
   ],
   "source": [
    "from tlsim2.circuit import Circuit\n",
    "\n",
    "linear_circuit = Circuit()\n",
    "linear_circuit.add_element(capacitor_qubit, {'i': 0, 'o': 1})\n",
    "linear_circuit.add_element(jj, {'i': 0, 'o': 1})\n",
    "linear_circuit.add_element(tl, {'i0': 2, 'o0': 0})\n",
    "linear_circuit.add_element(capacitor_coupl, {'i': 1, 'o': 2})\n",
    "linear_circuit.short(0)\n",
    "\n",
    "w, v, node_names = linear_circuit.compute_system_modes()\n",
    "decays = np.real(w/1e9)*2\n",
    "frequencies = np.imag(w/(2*np.pi))/1e9\n",
    "decays = np.real(w/1e9)*2\n",
    "decays = decays[frequencies > 0]\n",
    "frequencies = frequencies[frequencies > 0]\n",
    "frequencies, decays "
   ]
  },
  {
   "cell_type": "markdown",
   "id": "3d19cfdc",
   "metadata": {},
   "source": [
    "## Nonlinear circuit"
   ]
  },
  {
   "cell_type": "markdown",
   "id": "9be047d8",
   "metadata": {},
   "source": [
    "Check all nonlinear elements in the circuit"
   ]
  },
  {
   "cell_type": "code",
   "execution_count": 9,
   "id": "86582b87",
   "metadata": {
    "ExecuteTime": {
     "end_time": "2024-08-07T23:23:50.752251Z",
     "start_time": "2024-08-07T23:23:50.721279Z"
    }
   },
   "outputs": [
    {
     "data": {
      "text/plain": [
       "OrderedDict([('JJ', <tlsim2.lumped.JosephsonJunction at 0x29bd57050d0>)])"
      ]
     },
     "execution_count": 9,
     "metadata": {},
     "output_type": "execute_result"
    }
   ],
   "source": [
    "linear_circuit.nonlinear_elements"
   ]
  },
  {
   "cell_type": "markdown",
   "id": "8573d6cd",
   "metadata": {},
   "source": [
    "Now one can create quantum nonlinear circuit from this linear circuit"
   ]
  },
  {
   "cell_type": "code",
   "execution_count": 10,
   "id": "694ec12c",
   "metadata": {
    "ExecuteTime": {
     "end_time": "2024-08-07T23:23:51.601435Z",
     "start_time": "2024-08-07T23:23:51.569587Z"
    }
   },
   "outputs": [
    {
     "name": "stdout",
     "output_type": "stream",
     "text": [
      "Number of modes in the system is 4 and number of nonlinear elements is 1\n"
     ]
    }
   ],
   "source": [
    "from tlsim2.quantum_circuit import QuantumCircuit\n",
    "nonlinear_circuit = QuantumCircuit(linear_circuit)\n",
    "\n",
    "print(f\"Number of modes in the system is {nonlinear_circuit.num_modes} and \\\n",
    "number of nonlinear elements is {nonlinear_circuit.num_nonlinear_elements}\")"
   ]
  },
  {
   "cell_type": "markdown",
   "id": "736af4c1",
   "metadata": {},
   "source": [
    "Calculate EPR matrix $\\bf{p}$ which is defined as $p_{mj} =  \\frac{\\text{Inductive energy in junction }j}{\\text{Half of total energy if the mode } m}$ (https://www.nature.com/articles/s41534-021-00461-8)"
   ]
  },
  {
   "cell_type": "code",
   "execution_count": 11,
   "id": "29b2a5d3",
   "metadata": {
    "ExecuteTime": {
     "end_time": "2024-08-07T23:23:52.435979Z",
     "start_time": "2024-08-07T23:23:52.404270Z"
    }
   },
   "outputs": [
    {
     "data": {
      "text/plain": [
       "(array([[4.25440084e-05],\n",
       "        [4.53254788e-05],\n",
       "        [9.97914284e-01],\n",
       "        [1.99784680e-03]]),\n",
       " 0.9999999999999999)"
      ]
     },
     "execution_count": 11,
     "metadata": {},
     "output_type": "execute_result"
    }
   ],
   "source": [
    " nonlinear_circuit.get_epr_coefficients(), np.sum(nonlinear_circuit.get_epr_coefficients())"
   ]
  },
  {
   "cell_type": "markdown",
   "id": "0cd42d49",
   "metadata": {},
   "source": [
    "Kerr matrix defines the Hamiltonian function in the following form\n",
    "$$H = \\sum_{m} \\hbar \\omega_m a_m ^ {\\dagger} a_m + \\frac{1}{2} \\sum_{n, m} \\chi_{m n} a_m ^ {\\dagger} a_m a_n ^ {\\dagger} a_n$$\n",
    "From this approach anharmonicity of mode $m$ is calculated as $A_m =  \\frac{1}{2} \\chi_{mm}$"
   ]
  },
  {
   "cell_type": "code",
   "execution_count": 12,
   "id": "26e6b3f1",
   "metadata": {
    "ExecuteTime": {
     "end_time": "2024-08-07T23:23:53.409964Z",
     "start_time": "2024-08-07T23:23:53.378757Z"
    }
   },
   "outputs": [
    {
     "data": {
      "text/plain": [
       "(array([[6.49265121e+01, 3.30393914e+01, 1.80276492e+05, 4.75370197e+02],\n",
       "        [3.30393914e+01, 1.68128758e+01, 9.17379570e+04, 2.41903369e+02],\n",
       "        [1.80276492e+05, 9.17379570e+04, 5.00559979e+08, 1.31992415e+06],\n",
       "        [4.75370197e+02, 2.41903369e+02, 1.31992415e+06, 3.48050152e+03]]),\n",
       " array([3.24632561e+01, 8.40643791e+00, 2.50279989e+08, 1.74025076e+03]))"
      ]
     },
     "execution_count": 12,
     "metadata": {},
     "output_type": "execute_result"
    }
   ],
   "source": [
    "kerr_matrix, anharmonicities = nonlinear_circuit.get_kerr_matrix()\n",
    "kerr_matrix / (2 * np.pi), anharmonicities / (2 * np.pi)"
   ]
  },
  {
   "cell_type": "code",
   "execution_count": null,
   "id": "4ed76c94",
   "metadata": {},
   "outputs": [],
   "source": []
  }
 ],
 "metadata": {
  "kernelspec": {
   "display_name": "Python 3 (ipykernel)",
   "language": "python",
   "name": "python3"
  },
  "language_info": {
   "codemirror_mode": {
    "name": "ipython",
    "version": 3
   },
   "file_extension": ".py",
   "mimetype": "text/x-python",
   "name": "python",
   "nbconvert_exporter": "python",
   "pygments_lexer": "ipython3",
   "version": "3.9.13"
  },
  "toc": {
   "base_numbering": 1,
   "nav_menu": {},
   "number_sections": true,
   "sideBar": true,
   "skip_h1_title": false,
   "title_cell": "Table of Contents",
   "title_sidebar": "Contents",
   "toc_cell": false,
   "toc_position": {
    "height": "calc(100% - 180px)",
    "left": "10px",
    "top": "150px",
    "width": "165px"
   },
   "toc_section_display": true,
   "toc_window_display": true
  }
 },
 "nbformat": 4,
 "nbformat_minor": 5
}
